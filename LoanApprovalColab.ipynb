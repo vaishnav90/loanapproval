{
  "nbformat": 4,
  "nbformat_minor": 0,
  "metadata": {
    "colab": {
      "provenance": [],
      "authorship_tag": "ABX9TyPBM4PDBYUTZcjOJDkywMiQ",
      "include_colab_link": true
    },
    "kernelspec": {
      "name": "python3",
      "display_name": "Python 3"
    },
    "language_info": {
      "name": "python"
    }
  },
  "cells": [
    {
      "cell_type": "markdown",
      "metadata": {
        "id": "view-in-github",
        "colab_type": "text"
      },
      "source": [
        "<a href=\"https://colab.research.google.com/github/vaishnav90/loanapproval/blob/main/LoanApprovalColab.ipynb\" target=\"_parent\"><img src=\"https://colab.research.google.com/assets/colab-badge.svg\" alt=\"Open In Colab\"/></a>"
      ]
    },
    {
      "cell_type": "markdown",
      "source": [
        "# Comprehensive Loan Approval Fairness Analysis Tutorial\n",
        "**Learning Objectives**\n",
        "\n",
        "By the end of this notebook, you will understand:\n",
        "\n",
        "* How to build a complete machine learning pipeline\n",
        "\n",
        "*   Different classification algorithms and their applications\n",
        "\n",
        "*   How to handle imbalanced datasets\n",
        "\n",
        "*   Fairness analysis in machine learning\n",
        "\n",
        "*   Data visualization techniques\n",
        "\n",
        "*   Model evaluation metrics\n",
        "\n"
      ],
      "metadata": {
        "id": "uOwCREz2Xb45"
      }
    },
    {
      "cell_type": "markdown",
      "source": [
        "#Introduction\n",
        "**What is this project about?**\n",
        "\n",
        "This project analyzes loan approval decisions using machine learning while checking for fairness across different demographic groups. It's crucial in finance to ensure algorithms don't discriminate against certain groups.\n",
        "Key Concepts You'll Learn:\n",
        "\n",
        "\n",
        "\n",
        "*   Classification: Predicting categories (Approved/Rejected)\n",
        "*   Fairness in ML: Ensuring equal treatment across groups\n",
        "* Feature Engineering: Preparing data for machine learning\n",
        "* Model Comparison: Testing multiple algorithms\n",
        "* Bias Detection: Finding unfair patterns in predictions\n",
        "\n"
      ],
      "metadata": {
        "id": "UTMzdeYQYCKZ"
      }
    },
    {
      "cell_type": "markdown",
      "source": [
        "#**Introduction and Setup**\n"
      ],
      "metadata": {
        "id": "dj74-eN0TRoi"
      }
    },
    {
      "cell_type": "markdown",
      "source": [
        "First, let's install and import all necessary libraries"
      ],
      "metadata": {
        "id": "RKApPIrlYoZH"
      }
    },
    {
      "cell_type": "code",
      "source": [
        "!pip install imbalanced-learn scikit-learn pandas numpy matplotlib seaborn scipy"
      ],
      "metadata": {
        "colab": {
          "base_uri": "https://localhost:8080/"
        },
        "id": "5sURL3eXYqyu",
        "outputId": "657f653a-b2aa-48bc-ebae-415ab43a660d"
      },
      "execution_count": null,
      "outputs": [
        {
          "output_type": "stream",
          "name": "stdout",
          "text": [
            "Requirement already satisfied: imbalanced-learn in /usr/local/lib/python3.11/dist-packages (0.13.0)\n",
            "Requirement already satisfied: scikit-learn in /usr/local/lib/python3.11/dist-packages (1.6.1)\n",
            "Requirement already satisfied: pandas in /usr/local/lib/python3.11/dist-packages (2.2.2)\n",
            "Requirement already satisfied: numpy in /usr/local/lib/python3.11/dist-packages (2.0.2)\n",
            "Requirement already satisfied: matplotlib in /usr/local/lib/python3.11/dist-packages (3.10.0)\n",
            "Requirement already satisfied: seaborn in /usr/local/lib/python3.11/dist-packages (0.13.2)\n",
            "Requirement already satisfied: scipy in /usr/local/lib/python3.11/dist-packages (1.15.3)\n",
            "Requirement already satisfied: sklearn-compat<1,>=0.1 in /usr/local/lib/python3.11/dist-packages (from imbalanced-learn) (0.1.3)\n",
            "Requirement already satisfied: joblib<2,>=1.1.1 in /usr/local/lib/python3.11/dist-packages (from imbalanced-learn) (1.5.1)\n",
            "Requirement already satisfied: threadpoolctl<4,>=2.0.0 in /usr/local/lib/python3.11/dist-packages (from imbalanced-learn) (3.6.0)\n",
            "Requirement already satisfied: python-dateutil>=2.8.2 in /usr/local/lib/python3.11/dist-packages (from pandas) (2.9.0.post0)\n",
            "Requirement already satisfied: pytz>=2020.1 in /usr/local/lib/python3.11/dist-packages (from pandas) (2025.2)\n",
            "Requirement already satisfied: tzdata>=2022.7 in /usr/local/lib/python3.11/dist-packages (from pandas) (2025.2)\n",
            "Requirement already satisfied: contourpy>=1.0.1 in /usr/local/lib/python3.11/dist-packages (from matplotlib) (1.3.2)\n",
            "Requirement already satisfied: cycler>=0.10 in /usr/local/lib/python3.11/dist-packages (from matplotlib) (0.12.1)\n",
            "Requirement already satisfied: fonttools>=4.22.0 in /usr/local/lib/python3.11/dist-packages (from matplotlib) (4.58.4)\n",
            "Requirement already satisfied: kiwisolver>=1.3.1 in /usr/local/lib/python3.11/dist-packages (from matplotlib) (1.4.8)\n",
            "Requirement already satisfied: packaging>=20.0 in /usr/local/lib/python3.11/dist-packages (from matplotlib) (24.2)\n",
            "Requirement already satisfied: pillow>=8 in /usr/local/lib/python3.11/dist-packages (from matplotlib) (11.2.1)\n",
            "Requirement already satisfied: pyparsing>=2.3.1 in /usr/local/lib/python3.11/dist-packages (from matplotlib) (3.2.3)\n",
            "Requirement already satisfied: six>=1.5 in /usr/local/lib/python3.11/dist-packages (from python-dateutil>=2.8.2->pandas) (1.17.0)\n"
          ]
        }
      ]
    },
    {
      "cell_type": "code",
      "execution_count": null,
      "metadata": {
        "id": "exwgEvWeTQ7U"
      },
      "outputs": [],
      "source": [
        "import pandas as pd  # for data manipulation\n",
        "import numpy as np  # for numerical operations\n",
        "import matplotlib.pyplot as plt  # for data visualization\n",
        "import seaborn as sns  # for prettier plots\n",
        "from scipy import stats  # for statistical functions"
      ]
    },
    {
      "cell_type": "markdown",
      "source": [
        "What each library does:\n",
        "\n",
        "* pandas: Think of it as Python's version of Excel - great for data tables\n",
        "* numpy: Handles mathematical operations on large arrays of numbers\n",
        "* matplotlib: Creates basic plots (line charts, bar charts, etc.)\n",
        "* seaborn: Makes matplotlib plots look prettier and adds statistical features"
      ],
      "metadata": {
        "id": "PhkEub5jY4e8"
      }
    },
    {
      "cell_type": "markdown",
      "source": [
        "Scikit-learn imports for model training, preprocessing, and evaluation"
      ],
      "metadata": {
        "id": "rwuUdJFFTlOR"
      }
    },
    {
      "cell_type": "code",
      "source": [
        "from sklearn.model_selection import train_test_split, GridSearchCV, cross_val_score  # splitting data and tuning\n",
        "from sklearn.preprocessing import StandardScaler, OneHotEncoder, LabelEncoder  # feature scaling and encoding\n",
        "from sklearn.impute import SimpleImputer  # to fill in missing values\n",
        "from sklearn.compose import ColumnTransformer  # to apply preprocessing to specific columns\n",
        "from sklearn.pipeline import Pipeline  # to create ML workflows"
      ],
      "metadata": {
        "id": "PguFRMYwTiEZ"
      },
      "execution_count": null,
      "outputs": []
    },
    {
      "cell_type": "markdown",
      "source": [
        "Let's understand each sklearn import:\n",
        "\n",
        "* train_test_split: Splits data into training and testing sets\n",
        "* GridSearchCV: Automatically tests different parameter combinations\n",
        "* cross_val_score: Tests model performance using cross-validation\n",
        "* StandardScaler: Makes all numerical features have similar scales\n",
        "* OneHotEncoder: Converts categorical data to numbers\n",
        "* LabelEncoder: Converts target labels to numbers\n",
        "* SimpleImputer: Fills in missing values\n",
        "* ColumnTransformer: Applies different preprocessing to different columns\n",
        "* Pipeline: Chains preprocessing and modeling steps together"
      ],
      "metadata": {
        "id": "NyRkImKzZP32"
      }
    },
    {
      "cell_type": "markdown",
      "source": [
        "Importing classifiers"
      ],
      "metadata": {
        "id": "6zp4gXahTqoc"
      }
    },
    {
      "cell_type": "code",
      "source": [
        "from sklearn.ensemble import RandomForestClassifier, GradientBoostingClassifier, AdaBoostClassifier  # ensemble models\n",
        "from sklearn.linear_model import LogisticRegression  # linear model for classification\n",
        "from sklearn.svm import SVC  # support vector machine classifier"
      ],
      "metadata": {
        "id": "WmlPRaH5TzBh"
      },
      "execution_count": null,
      "outputs": []
    },
    {
      "cell_type": "markdown",
      "source": [
        " Classification Algorithms:\n",
        "\n",
        "* RandomForestClassifier: Combines many decision trees\n",
        "* GradientBoostingClassifier: Builds models sequentially, each fixing the previous one's errors\n",
        "* AdaBoostClassifier: Adaptive boosting - focuses on hard-to-classify examples\n",
        "* LogisticRegression: Simple but effective linear classifier\n",
        "* SVC: Support Vector Machine - finds the best boundary between classes"
      ],
      "metadata": {
        "id": "qdA0Mq4ZZw9l"
      }
    },
    {
      "cell_type": "markdown",
      "source": [
        "Metrics for evaluating classification performance"
      ],
      "metadata": {
        "id": "zV2sx_U_T--i"
      }
    },
    {
      "cell_type": "code",
      "source": [
        "from sklearn.metrics import classification_report, confusion_matrix, accuracy_score, roc_auc_score, f1_score, roc_curve, precision_recall_curve\n",
        "from sklearn.inspection import permutation_importance  # to understand feature importances"
      ],
      "metadata": {
        "id": "PI4syWT3T-tB"
      },
      "execution_count": null,
      "outputs": []
    },
    {
      "cell_type": "markdown",
      "source": [
        "Evaluation Metrics:\n",
        "\n",
        "* classification_report: Detailed performance summary\n",
        "* confusion_matrix: Shows correct vs incorrect predictions\n",
        "* accuracy_score: Percentage of correct predictions\n",
        "* roc_auc_score: Area under ROC curve (good for imbalanced data)\n",
        "* f1_score: Harmonic mean of precision and recall\n",
        "* roc_curve: Trade-off between true positive and false positive rates\n",
        "* precision_recall_curve: Trade-off between precision and recall"
      ],
      "metadata": {
        "id": "wR5RIH5VZ0YB"
      }
    },
    {
      "cell_type": "markdown",
      "source": [
        "Handling imbalanced datasets"
      ],
      "metadata": {
        "id": "S83GzDRHTtRF"
      }
    },
    {
      "cell_type": "code",
      "source": [
        "from imblearn.over_sampling import SMOTE  # Synthetic Minority Over-sampling Technique\n",
        "from imblearn.pipeline import Pipeline as ImbPipeline  # A pipeline that supports imbalanced-learn components"
      ],
      "metadata": {
        "id": "wVFNh_1nUKxZ"
      },
      "execution_count": null,
      "outputs": []
    },
    {
      "cell_type": "markdown",
      "source": [
        "Imbalanced Data Handling:\n",
        "\n",
        "* SMOTE: Synthetic Minority Over-sampling Technique - creates synthetic examples of minority class\n",
        "* ImbPipeline: Special pipeline that works with imbalanced-learn"
      ],
      "metadata": {
        "id": "54ik52cRaA86"
      }
    },
    {
      "cell_type": "markdown",
      "source": [
        "Optional but helpful settings"
      ],
      "metadata": {
        "id": "keqnJGvDUX4K"
      }
    },
    {
      "cell_type": "code",
      "source": [
        "import warnings  # to ignore warning messages\n",
        "warnings.filterwarnings('ignore')"
      ],
      "metadata": {
        "id": "2Jl4twWGUYlr"
      },
      "execution_count": null,
      "outputs": []
    },
    {
      "cell_type": "markdown",
      "source": [
        "Set style for consistent plots"
      ],
      "metadata": {
        "id": "GguFQAtRUaVt"
      }
    },
    {
      "cell_type": "code",
      "source": [
        "plt.style.use('seaborn-v0_8')  # set matplotlib style\n",
        "sns.set_palette('deep')  # seaborn color palette"
      ],
      "metadata": {
        "id": "lHkEyQUlUcl3"
      },
      "execution_count": null,
      "outputs": []
    },
    {
      "cell_type": "markdown",
      "source": [
        "#Define the class structure"
      ],
      "metadata": {
        "id": "LqJMWvVYUwlz"
      }
    },
    {
      "cell_type": "markdown",
      "source": [
        "**Class Structure Overview**\n",
        "\n",
        "Before diving into the code, let's understand the class structure"
      ],
      "metadata": {
        "id": "NqWlvEveaLnA"
      }
    },
    {
      "cell_type": "code",
      "source": [
        "class LoanApprovalFairnessAnalyzer:\n",
        "    def __init__(self, data_path):\n",
        "        # Initialize all the variables we'll use\n",
        "        self.data_path = data_path          # Path to our CSV file\n",
        "        self.data = None                    # Will store our dataset\n",
        "        self.X = None                       # Features (input variables)\n",
        "        self.y = None                       # Target (what we're predicting)\n",
        "        self.X_train = None                 # Training features\n",
        "        self.X_test = None                  # Testing features\n",
        "        self.y_train = None                 # Training targets\n",
        "        self.y_test = None                  # Testing targets\n",
        "        self.models = {}                    # Dictionary to store trained models\n",
        "        self.predictions = {}               # Dictionary to store predictions\n",
        "        self.fairness_metrics = {}          # Dictionary to store fairness analysis"
      ],
      "metadata": {
        "id": "o9EiSxD7WPB7"
      },
      "execution_count": null,
      "outputs": []
    },
    {
      "cell_type": "markdown",
      "source": [
        "Why use a class?\n",
        "\n",
        "* Organization: Keeps related functions together\n",
        "* State Management: Stores data and results for reuse\n",
        "* Modularity: Each method has a specific purpose"
      ],
      "metadata": {
        "id": "jXJg0q3DaUrx"
      }
    },
    {
      "cell_type": "markdown",
      "source": [
        "#data-exploration"
      ],
      "metadata": {
        "id": "O5XMhaYJabmz"
      }
    },
    {
      "cell_type": "code",
      "source": [
        "    def load_and_explore_data(self):\n",
        "        \"\"\"Load and perform initial exploration of the dataset\"\"\"\n",
        "        print(\"=\"*60)\n",
        "        print(\"LOAN APPROVAL PREDICTION WITH FAIRNESS ANALYSIS\")\n",
        "        print(\"=\"*60)\n",
        "\n",
        "        # Load data from CSV file\n",
        "        self.data = pd.read_csv(self.data_path)\n",
        "\n",
        "        # Clean column names (remove leading/trailing spaces)\n",
        "        self.data.columns = self.data.columns.str.strip()\n",
        "\n",
        "        print(f\"\\nDataset Shape: {self.data.shape}\")\n",
        "        print(f\"Columns: {list(self.data.columns)}\")\n",
        "      # Display basic info about the dataset\n",
        "        print(\"\\n\" + \"=\"*40)\n",
        "        print(\"DATA OVERVIEW\")\n",
        "        print(\"=\"*40)\n",
        "        print(self.data.head())                    # Shows first 5 rows\n",
        "        print(f\"\\nMissing Values:\\n{self.data.isnull().sum()}\")  # Counts missing values\n",
        "        print(f\"\\nData Types:\\n{self.data.dtypes}\")              # Shows data types\n",
        "      # Analyze target variable distribution\n",
        "        if 'loan_status' in self.data.columns:\n",
        "            print(f\"\\nLoan Status Distribution:\\n{self.data['loan_status'].value_counts()}\")\n",
        "            print(f\"Approval Rate: {(self.data['loan_status'] == 'Approved').mean():.2%}\")"
      ],
      "metadata": {
        "id": "otUDo6-KahiK"
      },
      "execution_count": null,
      "outputs": []
    },
    {
      "cell_type": "markdown",
      "source": [
        "Step-by-step breakdown:\n",
        "\n",
        "1. pd.read_csv(): Loads CSV file into a pandas DataFrame\n",
        "2. self.data.shape: Returns (number_of_rows, number_of_columns)\n",
        "3. self.data.columns.str.strip(): Removes extra spaces from column names\n",
        "4. list(self.data.columns): Shows all column names\n",
        "\n",
        " Key functions:\n",
        "\n",
        "* head(): Shows first few rows to understand data structure\n",
        "* isnull().sum(): Counts missing values in each column\n",
        "* dtypes: Shows data types (int, float, object, etc.)\n",
        "\n",
        "====\n",
        "\n",
        "\n",
        "* value_counts(): Counts how many of each category\n",
        "* mean(): Calculates approval rate (1 for approved, 0 for rejected)\n",
        "* :.2%: Formats as percentage with 2 decimal places\n"
      ],
      "metadata": {
        "id": "wAvd0nWtameC"
      }
    },
    {
      "cell_type": "markdown",
      "source": [
        "#Visualization"
      ],
      "metadata": {
        "id": "POQKjTQ-cCJ1"
      }
    },
    {
      "cell_type": "markdown",
      "source": [
        "Visualization helps us understand patterns in the data:"
      ],
      "metadata": {
        "id": "L7e6_M5ucDfm"
      }
    },
    {
      "cell_type": "code",
      "source": [
        "    def visualize_data_distribution(self):\n",
        "        \"\"\"Create visualizations for data distribution and relationships\"\"\"\n",
        "        print(\"\\n\" + \"=\"*40)\n",
        "        print(\"DATA VISUALIZATION\")\n",
        "        print(\"=\"*40)\n",
        "\n",
        "        # Create a figure with multiple subplots\n",
        "        fig, axes = plt.subplots(2, 3, figsize=(18, 12))\n",
        "\n",
        "        # Plot 1: Loan status distribution (bar chart)\n",
        "        self.data['loan_status'].value_counts().plot(kind='bar', ax=axes[0,0], color=['#ff7f0e', '#2ca02c'])\n",
        "        axes[0,0].set_title('Loan Status Distribution')\n",
        "        axes[0,0].set_xlabel('Status')\n",
        "        axes[0,0].set_ylabel('Count')\n",
        "        axes[0,0].tick_params(axis='x', rotation=45)\n",
        "\n",
        "        axes[0,0].set_ylim()\n",
        "\n",
        "    # Plot 2: Income distribution by loan status (histogram)\n",
        "        approved = self.data[self.data['loan_status'] == 'Approved']['income_annum']\n",
        "        rejected = self.data[self.data['loan_status'] == 'Rejected']['income_annum']\n",
        "\n",
        "        income_bins = np.linspace(min(self.data['income_annum']), max(self.data['income_annum']), 25)\n",
        "        axes[0,1].hist([approved/1e6, rejected/1e6], bins=income_bins/1e6, alpha=0.7,\n",
        "                      label=['Approved', 'Rejected'], color=['#2ca02c', '#ff7f0e'])\n",
        "    # Plot 3: CIBIL Score distribution (credit score)\n",
        "        approved_cibil = self.data[self.data['loan_status'] == 'Approved']['cibil_score']\n",
        "        rejected_cibil = self.data[self.data['loan_status'] == 'Rejected']['cibil_score']\n",
        "\n",
        "        cibil_bins = np.linspace(min(self.data['cibil_score']), max(self.data['cibil_score']), 25)\n",
        "        axes[0,2].hist([approved_cibil, rejected_cibil], bins=cibil_bins, alpha=0.7,\n",
        "                      label=['Approved', 'Rejected'], color=['#2ca02c', '#ff7f0e'])\n",
        "\n",
        "    # Plot 4: Scatter plot of Loan Amount vs Income\n",
        "        approved_data = self.data[self.data['loan_status'] == 'Approved']\n",
        "        rejected_data = self.data[self.data['loan_status'] == 'Rejected']\n",
        "\n",
        "        axes[1,0].scatter(approved_data['income_annum']/1e6, approved_data['loan_amount']/1e6,\n",
        "                        alpha=0.6, label='Approved', color='#2ca02c', s=20)\n",
        "        axes[1,0].scatter(rejected_data['income_annum']/1e6, rejected_data['loan_amount']/1e6,\n",
        "                        alpha=0.6, label='Rejected', color='#ff7f0e', s=20)\n",
        "\n",
        "    # Add trend line for approved loans\n",
        "        x_approved = approved_data['income_annum']/1e6\n",
        "        y_approved = approved_data['loan_amount']/1e6\n",
        "        if len(x_approved) > 1:\n",
        "            z_approved = np.polyfit(x_approved, y_approved, 1)    # Fit linear trend\n",
        "            p_approved = np.poly1d(z_approved)                    # Create polynomial\n",
        "            axes[1,0].plot(sorted(x_approved), p_approved(sorted(x_approved)),\n",
        "                          color='#2ca02c', linestyle='--', alpha=0.8, linewidth=2)\n",
        "\n",
        "    # Plot 5: Education level distribution\n",
        "        education_status = pd.crosstab(self.data['education'], self.data['loan_status'])\n",
        "        education_status.plot(kind='bar', ax=axes[1,1], color=['#ff7f0e', '#2ca02c'])\n",
        "\n",
        "        # Plot 6: Self-employment status\n",
        "        employment_status = pd.crosstab(self.data['self_employed'], self.data['loan_status'])\n",
        "        employment_status.plot(kind='bar', ax=axes[1,2], color=['#ff7f0e', '#2ca02c'])\n",
        "\n",
        "        plt.tight_layout()  # Automatically adjusts spacing between subplots\n",
        "        plt.show()         # Displays the figure\n",
        "\n",
        "    # Correlation heatmap\n",
        "        plt.figure(figsize=(12, 10))\n",
        "        numeric_cols = self.data.select_dtypes(include=[np.number]).columns\n",
        "        correlation_matrix = self.data[numeric_cols].corr()\n",
        "        sns.heatmap(correlation_matrix, annot=True, cmap='coolwarm', center=0,\n",
        "                  square=True, linewidths=0.5)"
      ],
      "metadata": {
        "id": "011LYCcgcFXm"
      },
      "execution_count": null,
      "outputs": []
    },
    {
      "cell_type": "markdown",
      "source": [
        " Subplot Creation:\n",
        "\n",
        "* plt.subplots(2, 3): Creates 2 rows, 3 columns of plots\n",
        "* figsize=(18, 12): Sets figure size in inches"
      ],
      "metadata": {
        "id": "L54wyPLvcHQ0"
      }
    },
    {
      "cell_type": "markdown",
      "source": [
        "Bar Chart Explanation:\n",
        "\n",
        "* value_counts().plot(kind='bar'): Creates bar chart of category counts\n",
        "* ax=axes[0,0]: Places chart in first subplot\n",
        "* color=['#ff7f0e', '#2ca02c']: Custom colors (orange and green)\n",
        "* set_title(): Adds title to the chart\n",
        "* tick_params(axis='x', rotation=45): Rotates x-axis labels"
      ],
      "metadata": {
        "id": "XlsIy1NtcPb9"
      }
    },
    {
      "cell_type": "markdown",
      "source": [
        "Histogram Explanation:\n",
        "\n",
        "* Filter data: self.data[self.data['loan_status'] == 'Approved'] gets only approved loans\n",
        "* np.linspace(): Creates evenly spaced bins for histogram\n",
        "* hist(): Creates histogram with two overlapping distributions\n",
        "* alpha=0.7: Makes bars semi-transparent\n",
        "* /1e6: Converts to millions for easier reading"
      ],
      "metadata": {
        "id": "0frLKCiZ5uPw"
      }
    },
    {
      "cell_type": "markdown",
      "source": [
        "Scatter Plot:\n",
        "\n",
        "* scatter(): Creates scatter plot showing relationship between two variables\n",
        "* s=20: Sets size of dots\n",
        "* alpha=0.6: Makes dots semi-transparent"
      ],
      "metadata": {
        "id": "wmWnrEI257Do"
      }
    },
    {
      "cell_type": "markdown",
      "source": [
        "Trend Line:\n",
        "\n",
        "* np.polyfit(): Fits polynomial (degree 1 = linear line)\n",
        "* np.poly1d(): Creates polynomial function\n",
        "* linestyle='--': Dashed line style"
      ],
      "metadata": {
        "id": "_mzSDs356Iw7"
      }
    },
    {
      "cell_type": "markdown",
      "source": [
        "Cross-tabulation:\n",
        "\n",
        "* pd.crosstab(): Creates cross-tabulation table showing relationship between two categorical variables\n",
        "* Shows count of each education level by loan status"
      ],
      "metadata": {
        "id": "gxyku0pP66ML"
      }
    },
    {
      "cell_type": "markdown",
      "source": [
        "Correlation Heatmap:\n",
        "\n",
        "* select_dtypes(include=[np.number]): Selects only numerical columns\n",
        "* corr(): Calculates correlation matrix\n",
        "* sns.heatmap(): Creates heatmap visualization\n",
        "* annot=True: Shows correlation values in cells\n",
        "* cmap='coolwarm': Color scheme (blue=negative, red=positive)\n",
        "* center=0: Centers colormap at 0"
      ],
      "metadata": {
        "id": "3X5WWd057A9U"
      }
    },
    {
      "cell_type": "markdown",
      "source": [
        "#Preprocessing"
      ],
      "metadata": {
        "id": "V6Ime8LC7NDD"
      }
    },
    {
      "cell_type": "markdown",
      "source": [
        "Before training models, we need to prepare our data:"
      ],
      "metadata": {
        "id": "BYAo5Io87Qos"
      }
    },
    {
      "cell_type": "code",
      "source": [
        "    def prepare_data(self):\n",
        "        \"\"\"Prepare data for modeling\"\"\"\n",
        "        print(\"\\n\" + \"=\"*40)\n",
        "        print(\"DATA PREPARATION\")\n",
        "        print(\"=\"*40)\n",
        "\n",
        "        # Convert target variable to numbers\n",
        "        label_encoder = LabelEncoder()\n",
        "        self.data['loan_status_encoded'] = label_encoder.fit_transform(self.data['loan_status'])\n",
        "\n",
        "            # Separate features (X) and target (y)\n",
        "        self.X = self.data.drop(['loan_status', 'loan_status_encoded', 'loan_id'], axis=1)\n",
        "        self.y = self.data['loan_status_encoded']\n",
        "\n",
        "        # Identify different types of columns\n",
        "        self.categorical_cols = self.X.select_dtypes(include=['object']).columns.tolist()\n",
        "        self.numerical_cols = self.X.select_dtypes(include=[np.number]).columns.tolist()\n",
        "\n",
        "        print(f\"Categorical columns: {self.categorical_cols}\")\n",
        "        print(f\"Numerical columns: {self.numerical_cols}\")\n",
        "\n",
        "            # Create preprocessing pipeline for numerical features\n",
        "        self.numerical_transformer = Pipeline(steps=[\n",
        "            ('imputer', SimpleImputer(strategy='median')),  # Fill missing values with median\n",
        "            ('scaler', StandardScaler())                    # Scale to mean=0, std=1\n",
        "        ])\n",
        "\n",
        "            # Combine preprocessing steps\n",
        "        self.preprocessor = ColumnTransformer(\n",
        "            transformers=[\n",
        "                ('num', self.numerical_transformer, self.numerical_cols),\n",
        "                ('cat', self.categorical_transformer, self.categorical_cols)\n",
        "            ])\n",
        "\n",
        "            # Split data into training and testing sets\n",
        "        self.X_train, self.X_test, self.y_train, self.y_test = train_test_split(\n",
        "            self.X, self.y, test_size=0.2, random_state=42, stratify=self.y\n",
        "        )\n",
        "\n",
        "        print(f\"Training set size: {self.X_train.shape[0]}\")\n",
        "        print(f\"Test set size: {self.X_test.shape[0]}\")\n",
        "        print(f\"Training set approval rate: {self.y_train.mean():.2%}\")\n",
        "        print(f\"Test set approval rate: {self.y_test.mean():.2%}\")"
      ],
      "metadata": {
        "id": "ZQGwbgI97Sf5"
      },
      "execution_count": null,
      "outputs": []
    },
    {
      "cell_type": "markdown",
      "source": [
        "Label Encoding:\n",
        "\n",
        "* LabelEncoder(): Converts text labels to numbers\n",
        "* fit_transform(): Learns encoding and applies it\n",
        "* Example: 'Approved' → 1, 'Rejected' → 0"
      ],
      "metadata": {
        "id": "__Z3h_fe7dmR"
      }
    },
    {
      "cell_type": "markdown",
      "source": [
        "Feature-Target Separation:\n",
        "\n",
        "* X: Features (input variables) - everything except target and ID\n",
        "* y: Target (what we're predicting) - encoded loan status\n",
        "* drop(): Removes specified columns\n",
        "* axis=1: Drops columns (axis=0 would drop rows)"
      ],
      "metadata": {
        "id": "5aANhEWv7hoR"
      }
    },
    {
      "cell_type": "markdown",
      "source": [
        "Column Type Identification:\n",
        "\n",
        "* select_dtypes(include=['object']): Selects text/categorical columns\n",
        "* select_dtypes(include=[np.number]): Selects numerical columns\n",
        "* Different types need different preprocessing"
      ],
      "metadata": {
        "id": "3ZFoC0mD7qLJ"
      }
    },
    {
      "cell_type": "markdown",
      "source": [
        "Numerical Preprocessing:\n",
        "\n",
        "* SimpleImputer(strategy='median'): Replaces missing values with median\n",
        "* StandardScaler(): Standardizes features (mean=0, standard deviation=1)\n",
        "* Pipeline: Chains these steps together"
      ],
      "metadata": {
        "id": "QKogXtA476mn"
      }
    },
    {
      "cell_type": "markdown",
      "source": [
        "ColumnTransformer:\n",
        "\n",
        "* Applies different preprocessing to different column types\n",
        "* transformers: List of (name, transformer, columns) tuples"
      ],
      "metadata": {
        "id": "6YdZ45tt9t3q"
      }
    },
    {
      "cell_type": "markdown",
      "source": [
        "Train-Test Split:\n",
        "\n",
        "* test_size=0.2: 20% for testing, 80% for training\n",
        "* random_state=42: Ensures reproducible results\n",
        "* stratify=self.y: Maintains same proportion of classes in both sets"
      ],
      "metadata": {
        "id": "zdeerVaE-E2Q"
      }
    },
    {
      "cell_type": "markdown",
      "source": [
        "#Training"
      ],
      "metadata": {
        "id": "5cI59b9g-T8t"
      }
    },
    {
      "cell_type": "markdown",
      "source": [
        "Now let's train multiple machine learning models:"
      ],
      "metadata": {
        "id": "5rvN--Hj-XqA"
      }
    },
    {
      "cell_type": "code",
      "source": [
        "    def train_models(self):\n",
        "        \"\"\"Train multiple advanced models\"\"\"\n",
        "        print(\"\\n\" + \"=\"*40)\n",
        "        print(\"MODEL TRAINING\")\n",
        "        print(\"=\"*40)\n",
        "\n",
        "        # Define different models to try\n",
        "        models_config = {\n",
        "            'Logistic Regression': LogisticRegression(random_state=42, max_iter=1000),\n",
        "            'Random Forest': RandomForestClassifier(random_state=42, n_estimators=100),\n",
        "            'Gradient Boosting': GradientBoostingClassifier(random_state=42, n_estimators=100),\n",
        "            'AdaBoost': AdaBoostClassifier(random_state=42, n_estimators=100),\n",
        "            'SVM': SVC(random_state=42, probability=True)\n",
        "        }\n",
        "\n",
        "\n",
        "        # Train each model\n",
        "        for name, model in models_config.items():\n",
        "            print(f\"Training {name}...\")\n",
        "\n",
        "            # Create pipeline combining preprocessing and model\n",
        "            pipeline = Pipeline(steps=[\n",
        "                ('preprocessor', self.preprocessor),\n",
        "                ('classifier', model)\n",
        "            ])\n",
        "\n",
        "            # Train the model\n",
        "            pipeline.fit(self.X_train, self.y_train)\n",
        "\n",
        "            # Store model and make predictions\n",
        "            self.models[name] = pipeline\n",
        "            self.predictions[name] = pipeline.predict(self.X_test)\n",
        "\n",
        "            # Cross-validation for robust evaluation\n",
        "            cv_scores = cross_val_score(pipeline, self.X_train, self.y_train, cv=5, scoring='f1')\n",
        "            print(f\"{name} CV F1 Score: {cv_scores.mean():.4f} (+/- {cv_scores.std() * 2:.4f})\")"
      ],
      "metadata": {
        "id": "9B-ZaBnv-YIu"
      },
      "execution_count": null,
      "outputs": []
    },
    {
      "cell_type": "markdown",
      "source": [
        "Model Configuration:\n",
        "\n",
        "* Dictionary: Stores model name and configuration\n",
        "* random_state=42: Ensures reproducible results\n",
        "* max_iter=1000: Maximum iterations for convergence\n",
        "* n_estimators=100: Number of trees in ensemble methods\n",
        "* probability=True: Enables probability predictions for SVM"
      ],
      "metadata": {
        "id": "Tg9Vkea8-b6H"
      }
    },
    {
      "cell_type": "markdown",
      "source": [
        "Training Process:\n",
        "\n",
        "* Pipeline: Combines preprocessing and model training\n",
        "* fit(): Trains the model on training data\n",
        "* predict(): Makes predictions on test data\n",
        "* Storage: Saves model and predictions for later use"
      ],
      "metadata": {
        "id": "w0-3Oejw-o4t"
      }
    },
    {
      "cell_type": "markdown",
      "source": [
        "Cross-Validation:\n",
        "\n",
        "* cv=5: 5-fold cross-validation\n",
        "* scoring='f1': Uses F1 score (good for imbalanced data)\n",
        "* cv_scores.mean(): Average performance across folds\n",
        "cv_scores.std() * 2: 95% confidence interval"
      ],
      "metadata": {
        "id": "3TnTgh90-2K9"
      }
    },
    {
      "cell_type": "markdown",
      "source": [
        "# SMOTE Training for Imbalanced Data"
      ],
      "metadata": {
        "id": "aIL1tcK3_JXL"
      }
    },
    {
      "cell_type": "code",
      "source": [
        "    def train_smote_models(self):\n",
        "        \"\"\"Train models with SMOTE for handling class imbalance\"\"\"\n",
        "        print(\"\\n\" + \"=\"*40)\n",
        "        print(\"SMOTE-ENHANCED MODEL TRAINING\")\n",
        "        print(\"=\"*40)\n",
        "\n",
        "        # Define key models for SMOTE\n",
        "        smote_models = {\n",
        "            'RF + SMOTE': RandomForestClassifier(random_state=42, n_estimators=100),\n",
        "            'GB + SMOTE': GradientBoostingClassifier(random_state=42, n_estimators=100)\n",
        "        }\n",
        "\n",
        "        for name, model in smote_models.items():\n",
        "            print(f\"Training {name}...\")\n",
        "\n",
        "            # Create SMOTE pipeline\n",
        "            smote_pipeline = ImbPipeline(steps=[\n",
        "                ('preprocessor', self.preprocessor),\n",
        "                ('smote', SMOTE(random_state=42)),\n",
        "                ('classifier', model)\n",
        "            ])\n",
        "\n",
        "            # Fit model with SMOTE\n",
        "            smote_pipeline.fit(self.X_train, self.y_train)\n",
        "\n",
        "            # Store model and predictions\n",
        "            self.models[name] = smote_pipeline\n",
        "            self.predictions[name] = smote_pipeline.predict(self.X_test)"
      ],
      "metadata": {
        "id": "vhNnN325_K28"
      },
      "execution_count": null,
      "outputs": []
    },
    {
      "cell_type": "markdown",
      "source": [
        "Why SMOTE?\n",
        "\n",
        "* Class Imbalance: When one class has many more examples than the other\n",
        "* SMOTE: Synthetic Minority Over-sampling Technique\n",
        "* Creates synthetic examples: Generates new minority class samples"
      ],
      "metadata": {
        "id": "rKBBAv5H_Pfl"
      }
    },
    {
      "cell_type": "markdown",
      "source": [
        "SMOTE Pipeline:\n",
        "\n",
        "* ImbPipeline: Special pipeline for imbalanced-learn\n",
        "* SMOTE(): Creates synthetic minority samples\n",
        "* Order matters: Preprocess → SMOTE → Classify"
      ],
      "metadata": {
        "id": "FcYzb9qL_WZo"
      }
    },
    {
      "cell_type": "markdown",
      "source": [
        "#Evaluation"
      ],
      "metadata": {
        "id": "zS6OyIlH_brw"
      }
    },
    {
      "cell_type": "code",
      "source": [
        "    def evaluate_models(self):\n",
        "        \"\"\"Comprehensive model evaluation\"\"\"\n",
        "        print(\"\\n\" + \"=\"*40)\n",
        "        print(\"MODEL EVALUATION\")\n",
        "        print(\"=\"*40)\n",
        "\n",
        "        results = []\n",
        "\n",
        "        for name, predictions in self.predictions.items():\n",
        "            # Calculate key metrics\n",
        "            accuracy = accuracy_score(self.y_test, predictions)\n",
        "            f1 = f1_score(self.y_test, predictions)\n",
        "            roc_auc = roc_auc_score(self.y_test, predictions)\n",
        "\n",
        "            results.append({\n",
        "                'Model': name,\n",
        "                'Accuracy': accuracy,\n",
        "                'F1 Score': f1,\n",
        "                'ROC AUC': roc_auc\n",
        "            })\n",
        "\n",
        "            print(f\"\\n{name} Results:\")\n",
        "            print(f\"Accuracy: {accuracy:.4f}\")\n",
        "            print(f\"F1 Score: {f1:.4f}\")\n",
        "            print(f\"ROC AUC: {roc_auc:.4f}\")\n",
        "            print(\"\\nClassification Report:\")\n",
        "            print(classification_report(self.y_test, predictions))\n",
        "\n",
        "\n",
        "    # Create results DataFrame and find best model\n",
        "        results_df = pd.DataFrame(results)\n",
        "        best_model_name = results_df.loc[results_df['F1 Score'].idxmax(), 'Model']\n",
        "        print(f\"\\nBest Model (by F1 Score): {best_model_name}\")\n",
        "\n",
        "        return results_df, best_model_name\n"
      ],
      "metadata": {
        "id": "6y8MBIQQ_dMI"
      },
      "execution_count": null,
      "outputs": []
    },
    {
      "cell_type": "markdown",
      "source": [
        "Key Metrics Explained:\n",
        "\n",
        "* Accuracy: (Correct Predictions) / (Total Predictions)\n",
        "* F1 Score: Harmonic mean of precision and recall\n",
        "* ROC AUC: Area Under ROC Curve (0.5 = random, 1.0 = perfect)"
      ],
      "metadata": {
        "id": "Hjy_i8ng_jQo"
      }
    },
    {
      "cell_type": "markdown",
      "source": [
        "Classification Report includes:\n",
        "\n",
        "* Precision: True Positives / (True Positives + False Positives)\n",
        "* Recall: True Positives / (True Positives + False Negatives)\n",
        "* F1-Score: 2 * (Precision * Recall) / (Precision + Recall)\n",
        "* Support: Number of samples in each class"
      ],
      "metadata": {
        "id": "YCsE5V1S_sYY"
      }
    },
    {
      "cell_type": "markdown",
      "source": [
        " Best Model Selection:\n",
        "\n",
        "* idxmax(): Finds index of maximum value\n",
        "* loc[]: Selects row by index\n",
        "* F1 Score: Chosen because it balances precision and recall"
      ],
      "metadata": {
        "id": "teMyOv-x_0XV"
      }
    },
    {
      "cell_type": "markdown",
      "source": [
        "#Feature importance"
      ],
      "metadata": {
        "id": "MYHiqUTk_6xB"
      }
    },
    {
      "cell_type": "code",
      "source": [
        "    def analyze_feature_importance(self, best_model_name):\n",
        "        \"\"\"Analyze feature importance for the best model\"\"\"\n",
        "        print(f\"\\n{'='*40}\")\n",
        "        print(f\"FEATURE IMPORTANCE ANALYSIS - {best_model_name}\")\n",
        "        print(\"=\"*40)\n",
        "\n",
        "        best_model = self.models[best_model_name]\n",
        "\n",
        "        # Get feature names after preprocessing\n",
        "        if hasattr(best_model, 'named_steps'):\n",
        "            preprocessor = best_model.named_steps['preprocessor']\n",
        "        else:\n",
        "            preprocessor = best_model.steps[0][1]\n",
        "\n",
        "        # Fit preprocessor to get feature names\n",
        "        preprocessor.fit(self.X_train)\n",
        "\n",
        "        # Get feature names\n",
        "        feature_names = self.numerical_cols.copy()\n",
        "        if 'cat' in preprocessor.named_transformers_:\n",
        "            cat_feature_names = preprocessor.named_transformers_['cat'].named_steps['onehot'].get_feature_names_out(self.categorical_cols)\n",
        "            feature_names.extend(cat_feature_names)\n",
        "\n",
        "\n",
        "    # Get feature importance from model\n",
        "        if hasattr(best_model, 'named_steps'):\n",
        "            classifier = best_model.named_steps['classifier']\n",
        "        else:\n",
        "            classifier = best_model.steps[-1][1]\n",
        "\n",
        "        if hasattr(classifier, 'feature_importances_'):\n",
        "            importance_scores = classifier.feature_importances_\n",
        "\n",
        "            # Create feature importance DataFrame\n",
        "            feature_importance_df = pd.DataFrame({\n",
        "                'Feature': feature_names,\n",
        "                'Importance': importance_scores\n",
        "            }).sort_values('Importance', ascending=False)\n",
        "\n",
        "\n",
        "            # Plot feature importance\n",
        "            plt.figure(figsize=(12, 8))\n",
        "            top_features = feature_importance_df.head(15)\n",
        "            sns.barplot(data=top_features, x='Importance', y='Feature', palette='viridis')\n",
        "            plt.title(f'Top 15 Feature Importance - {best_model_name}')\n",
        "            plt.xlabel('Importance Score')\n",
        "            plt.tight_layout()\n",
        "            plt.show()"
      ],
      "metadata": {
        "id": "lRKKHvIH_sCv"
      },
      "execution_count": null,
      "outputs": []
    },
    {
      "cell_type": "markdown",
      "source": [
        "Feature Name Extraction:\n",
        "\n",
        "* named_steps: Accesses pipeline components by name\n",
        "* get_feature_names_out(): Gets names of one-hot encoded features\n",
        "* extend(): Adds categorical feature names to numerical ones"
      ],
      "metadata": {
        "id": "KflRJP4lAA6S"
      }
    },
    {
      "cell_type": "markdown",
      "source": [
        " Feature Importance:\n",
        "\n",
        "* feature_importances_: Available for tree-based models\n",
        "* sort_values(): Sorts by importance (descending)\n",
        "* Higher values: More important features"
      ],
      "metadata": {
        "id": "gKx5cQk8AJom"
      }
    },
    {
      "cell_type": "markdown",
      "source": [
        "Visualization:\n",
        "\n",
        "* barplot(): Creates horizontal bar chart\n",
        "* palette='viridis': Color scheme\n",
        "* head(15): Shows only top 15 features"
      ],
      "metadata": {
        "id": "k_HxoGUGAO9P"
      }
    },
    {
      "cell_type": "markdown",
      "source": [
        "#Fairness"
      ],
      "metadata": {
        "id": "JwScFZIdAS1f"
      }
    },
    {
      "cell_type": "markdown",
      "source": [
        "The most important part - checking for bias in our model:"
      ],
      "metadata": {
        "id": "i34FoWH3AYT2"
      }
    },
    {
      "cell_type": "code",
      "source": [
        "    def fairness_analysis(self, best_model_name):\n",
        "        \"\"\"Analyze fairness across different demographic groups\"\"\"\n",
        "        print(f\"\\n{'='*60}\")\n",
        "        print(\"FAIRNESS ANALYSIS\")\n",
        "        print(\"=\"*60)\n",
        "\n",
        "        # Get predictions from best model\n",
        "        best_predictions = self.predictions[best_model_name]\n",
        "\n",
        "        # Create test dataframe with predictions\n",
        "        test_df = self.X_test.copy()\n",
        "        test_df['actual'] = self.y_test\n",
        "        test_df['predicted'] = best_predictions\n",
        "\n",
        "        # Analyze fairness by education level\n",
        "        if 'education' in test_df.columns:\n",
        "            print(\"\\nFAIRNESS BY EDUCATION LEVEL:\")\n",
        "            print(\"=\"*40)\n",
        "\n",
        "            education_fairness = self.calculate_fairness_metrics(test_df, 'education')\n",
        "            print(education_fairness)\n",
        "\n",
        "            # Visualize education fairness\n",
        "            self.plot_fairness_metrics(education_fairness, 'Education Level')\n",
        "\n",
        "        self.statistical_fairness_tests(test_df)"
      ],
      "metadata": {
        "id": "BRUgaKplAY0_"
      },
      "execution_count": null,
      "outputs": []
    },
    {
      "cell_type": "markdown",
      "source": [
        "* test_df: Combines test features with actual and predicted outcomes\n",
        "* actual: True loan status\n",
        "* predicted: Model's prediction"
      ],
      "metadata": {
        "id": "LuECpBGcAb5O"
      }
    },
    {
      "cell_type": "markdown",
      "source": [
        "* Calls a method that runs statistical tests to determine if observed differences are statistically significant\n",
        "* Uses chi-square tests and proportion comparisons\n",
        "* Helps us understand if differences are due to random chance or real bias"
      ],
      "metadata": {
        "id": "su3SQLB3AgME"
      }
    },
    {
      "cell_type": "markdown",
      "source": [
        "#Calculate Fairness Metrics"
      ],
      "metadata": {
        "id": "4vSwq3zJB7i1"
      }
    },
    {
      "cell_type": "code",
      "source": [
        "    def calculate_fairness_metrics(self, df, group_col):\n",
        "        \"\"\"Calculate fairness metrics for a specific group\"\"\"\n",
        "        fairness_metrics = []\n",
        "\n",
        "        for group in df[group_col].unique():\n",
        "            group_data = df[df[group_col] == group] # Takes our dataframe and a column name (like 'education' or 'self_employed')\n",
        "\n",
        "            # Calculate metrics\n",
        "            total_count = len(group_data)\n",
        "            actual_approval_rate = group_data['actual'].mean()\n",
        "            predicted_approval_rate = group_data['predicted'].mean()\n",
        "\n",
        "            # True Positive Rate (Sensitivity)\n",
        "            tp = ((group_data['actual'] == 1) & (group_data['predicted'] == 1)).sum()\n",
        "            fn = ((group_data['actual'] == 1) & (group_data['predicted'] == 0)).sum()\n",
        "            tpr = tp / (tp + fn) if (tp + fn) > 0 else 0\n",
        "\n",
        "            # False Positive Rate\n",
        "            fp = ((group_data['actual'] == 0) & (group_data['predicted'] == 1)).sum()\n",
        "            tn = ((group_data['actual'] == 0) & (group_data['predicted'] == 0)).sum()\n",
        "            fpr = fp / (fp + tn) if (fp + tn) > 0 else 0\n",
        "\n",
        "            # Precision\n",
        "            precision = tp / (tp + fp) if (tp + fp) > 0 else 0\n",
        "\n",
        "            # Accuracy\n",
        "            accuracy = ((group_data['actual'] == group_data['predicted']).sum()) / total_count\n",
        "\n",
        "            fairness_metrics.append({\n",
        "                    'Group': group,\n",
        "                    'Count': total_count,\n",
        "                    'Actual_Approval_Rate': actual_approval_rate,\n",
        "                    'Predicted_Approval_Rate': predicted_approval_rate,\n",
        "                    'TPR': tpr,\n",
        "                    'FPR': fpr,\n",
        "                    'Precision': precision,\n",
        "                    'Accuracy': accuracy\n",
        "                })\n",
        "\n",
        "            return pd.DataFrame(fairness_metrics)\n",
        "\n",
        "            #What this does (lines 29-38):\n",
        "            # Creates a dictionary with all the calculated metrics for this group\n",
        "            # fairness_metrics.append(): Adds this dictionary to our list\n",
        "            # After the loop finishes, converts the list of dictionaries into a pandas DataFrame"
      ],
      "metadata": {
        "id": "ZDmKVXF_CDGj"
      },
      "execution_count": null,
      "outputs": []
    },
    {
      "cell_type": "markdown",
      "source": [
        "* df[group_col].unique(): Gets all unique values in that column (e.g., 'Graduate', 'Not Graduate')\n",
        "* df[df[group_col] == group]: Filters the data to only include rows for the current group"
      ],
      "metadata": {
        "id": "tEGvGns1CG9d"
      }
    },
    {
      "cell_type": "markdown",
      "source": [
        "* total_count: How many people are in this specific group\n",
        "* actual_approval_rate: What percentage of people in this group actually got approved (real-world outcome)\n",
        "* predicted_approval_rate: What percentage our model predicted would be approved"
      ],
      "metadata": {
        "id": "kNyAnsRvDSHW"
      }
    },
    {
      "cell_type": "markdown",
      "source": [
        "* tp (True Positives): Cases where actual=1 AND predicted=1 (correctly predicted approvals)\n",
        "* fn (False Negatives): Cases where actual=1 BUT predicted=0 (missed approvals - should have been approved but weren't)\n",
        "* tpr (True Positive Rate): What percentage of people who should have gotten loans did our model correctly identify?\n",
        "\n",
        "* Why TPR matters:\n",
        " * TPR measures how good our model is at identifying qualified applicants. A fair model should have similar TPR across all demographic groups"
      ],
      "metadata": {
        "id": "jT8SiYuODfG3"
      }
    },
    {
      "cell_type": "markdown",
      "source": [
        "* fp (False Positives): Cases where actual=0 BUT predicted=1 (incorrectly predicted approvals - shouldn't have been approved but were)\n",
        "* tn (True Negatives): Cases where actual=0 AND predicted=0 (correctly predicted rejections)\n",
        "* fpr (False Positive Rate): What percentage of people who shouldn't get loans did our model incorrectly approve?\n",
        "\n",
        "* Why FPR matters:\n",
        "FPR measures how often our model makes mistakes by approving unqualified applicants. A fair model should have similar FPR across groups."
      ],
      "metadata": {
        "id": "TniXzDjGDyZ7"
      }
    },
    {
      "cell_type": "markdown",
      "source": [
        "# Visualization Method"
      ],
      "metadata": {
        "id": "joeBKi9UE-fR"
      }
    },
    {
      "cell_type": "code",
      "source": [
        "    def plot_fairness_metrics(self, fairness_df, title):\n",
        "        \"\"\"Plot fairness metrics\"\"\"\n",
        "        fig, axes = plt.subplots(2, 2, figsize=(15, 10)) # Creates a 2x2 grid of subplots (4 charts total)\n",
        "\n",
        "      # Approval rates\n",
        "        x = range(len(fairness_df))\n",
        "        width = 0.35\n",
        "\n",
        "        axes[0,0].bar([i - width/2 for i in x], fairness_df['Actual_Approval_Rate'],\n",
        "                      width, label='Actual', alpha=0.8)\n",
        "        axes[0,0].bar([i + width/2 for i in x], fairness_df['Predicted_Approval_Rate'],\n",
        "                      width, label='Predicted', alpha=0.8)\n",
        "        axes[0,0].set_title(f'Approval Rates by {title}')\n",
        "        axes[0,0].set_xlabel(title)\n",
        "        axes[0,0].set_ylabel('Approval Rate')\n",
        "        axes[0,0].set_xticks(x)\n",
        "        axes[0,0].set_xticklabels(fairness_df['Group'])\n",
        "        axes[0,0].legend()\n",
        "\n",
        "\n",
        "        # True Positive Rate\n",
        "        axes[0,1].bar(fairness_df['Group'], fairness_df['TPR'], color='green', alpha=0.7)\n",
        "        axes[0,1].set_title(f'True Positive Rate by {title}')\n",
        "        axes[0,1].set_xlabel(title)\n",
        "        axes[0,1].set_ylabel('TPR')\n",
        "        axes[0,1].tick_params(axis='x', rotation=45)\n",
        "\n",
        "        # False Positive Rate\n",
        "        axes[1,0].bar(fairness_df['Group'], fairness_df['FPR'], color='red', alpha=0.7)\n",
        "        axes[1,0].set_title(f'False Positive Rate by {title}')\n",
        "        axes[1,0].set_xlabel(title)\n",
        "        axes[1,0].set_ylabel('FPR')\n",
        "        axes[1,0].tick_params(axis='x', rotation=45) #Creates a bar chart showing FPR for each group\n",
        "\n",
        "        # Accuracy\n",
        "        axes[1,1].bar(fairness_df['Group'], fairness_df['Accuracy'], color='blue', alpha=0.7)\n",
        "        axes[1,1].set_title(f'Accuracy by {title}')\n",
        "        axes[1,1].set_xlabel(title)\n",
        "        axes[1,1].set_ylabel('Accuracy')\n",
        "        axes[1,1].tick_params(axis='x', rotation=45)\n",
        "\n",
        "        plt.tight_layout()\n",
        "        plt.show() #Creates the final bar chart showing accuracy for each group\n"
      ],
      "metadata": {
        "id": "OdFFPD_-E_0Y"
      },
      "execution_count": null,
      "outputs": []
    },
    {
      "cell_type": "markdown",
      "source": [
        "* figsize=(15, 10): Sets the overall figure size to 15 inches wide by 10 inches tall\n",
        "* axes becomes a 2x2 array where we can access each subplot"
      ],
      "metadata": {
        "id": "kCZjh-h1FEBL"
      }
    },
    {
      "cell_type": "markdown",
      "source": [
        "* x = range(len(fairness_df)): Creates positions for each group (0, 1, 2, ...)\n",
        "* width = 0.35: Sets the width of each bar\n",
        "* [i - width/2 for i in x]: Shifts the \"Actual\" bars slightly left\n",
        "* [i + width/2 for i in x]: Shifts the \"Predicted\" bars slightly right\n",
        "* alpha=0.8: Makes bars slightly transparent for better visual appeal"
      ],
      "metadata": {
        "id": "b9vG8mEnFQYB"
      }
    },
    {
      "cell_type": "markdown",
      "source": [
        "* plt.tight_layout(): Automatically adjusts spacing between subplots to prevent overlap\n",
        "* plt.show(): Displays the complete 2x2 grid of charts"
      ],
      "metadata": {
        "id": "yIQJzv_0Gh2Y"
      }
    },
    {
      "cell_type": "markdown",
      "source": [
        "#Statistical Tests"
      ],
      "metadata": {
        "id": "-I_v8nRzGr1J"
      }
    },
    {
      "cell_type": "code",
      "source": [
        "    def statistical_fairness_tests(self, df):\n",
        "            \"\"\"Perform statistical tests for fairness\"\"\"\n",
        "            print(f\"\\n{'='*40}\")\n",
        "            print(\"STATISTICAL FAIRNESS TESTS\")\n",
        "            print(\"=\"*40) # (lines 2-5) Sets up the statistical testing section with a formatted header\n",
        "\n",
        "            # Test for education level\n",
        "            if 'education' in df.columns:\n",
        "                grad_predictions = df[df['education'] == 'Graduate']['predicted']\n",
        "                not_grad_predictions = df[df['education'] == 'Not Graduate']['predicted']\n",
        "\n",
        "                # Chi-square test\n",
        "                from scipy.stats import chi2_contingency\n",
        "                contingency_table = pd.crosstab(df['education'], df['predicted'])\n",
        "                chi2, p_value, dof, expected = chi2_contingency(contingency_table) # (Lines 7-15) Separates predictions for graduates and non-graduates\n",
        "\n",
        "                print(f\"Education Level Fairness Test:\")\n",
        "                print(f\"Chi-square statistic: {chi2:.4f}\")\n",
        "                print(f\"P-value: {p_value:.4f}\")\n",
        "                print(f\"Significant difference: {'Yes' if p_value < 0.05 else 'No'}\")\n",
        "\n",
        "                # Two-proportion z-test\n",
        "                grad_approval_rate = grad_predictions.mean()\n",
        "                not_grad_approval_rate = not_grad_predictions.mean()\n",
        "\n",
        "                print(f\"\\nApproval Rates:\")\n",
        "                print(f\"Graduate: {grad_approval_rate:.2%}\")\n",
        "                print(f\"Not Graduate: {not_grad_approval_rate:.2%}\")\n",
        "                print(f\"Difference: {abs(grad_approval_rate - not_grad_approval_rate):.2%}\")\n",
        "\n",
        "    #             Displays the chi-square statistic and p-value\n",
        "                # Determines if the difference is statistically significant (p < 0.05)\n",
        "                # Calculates and displays approval rates for each group\n",
        "                # Shows the absolute difference between groups\n",
        "\n",
        "            # Test for employment status\n",
        "            if 'self_employed' in df.columns:\n",
        "                self_emp_predictions = df[df['self_employed'] == 'Yes']['predicted']\n",
        "                not_self_emp_predictions = df[df['self_employed'] == 'No']['predicted']\n",
        "\n",
        "                contingency_table = pd.crosstab(df['self_employed'], df['predicted'])\n",
        "                chi2, p_value, dof, expected = chi2_contingency(contingency_table)\n",
        "\n",
        "    #             Similar analysis but for employment status\n",
        "    # Compares predictions for self-employed vs. employed individuals\n",
        "    # Uses the same chi-square test approach\n",
        "\n",
        "                print(f\"\\nEmployment Status Fairness Test:\")\n",
        "                print(f\"Chi-square statistic: {chi2:.4f}\")\n",
        "                print(f\"P-value: {p_value:.4f}\")\n",
        "                print(f\"Significant difference: {'Yes' if p_value < 0.05 else 'No'}\")\n",
        "\n",
        "                self_emp_approval_rate = self_emp_predictions.mean()\n",
        "                not_self_emp_approval_rate = not_self_emp_predictions.mean()\n",
        "\n",
        "                print(f\"\\nApproval Rates:\")\n",
        "                print(f\"Self-employed: {self_emp_approval_rate:.2%}\")\n",
        "                print(f\"Not Self-employed: {not_self_emp_approval_rate:.2%}\")\n",
        "                print(f\"Difference: {abs(self_emp_approval_rate - not_self_emp_approval_rate):.2%}\")"
      ],
      "metadata": {
        "id": "-1BtiIl2GtGa"
      },
      "execution_count": null,
      "outputs": []
    },
    {
      "cell_type": "markdown",
      "source": [
        "* pd.crosstab(): Creates a contingency table showing the relationship between education and predictions\n",
        "* chi2_contingency(): Performs a chi-square test to determine if education and predictions are independent"
      ],
      "metadata": {
        "id": "hxVuDEy4Gx2q"
      }
    },
    {
      "cell_type": "markdown",
      "source": [
        "* p < 0.05: Significant difference exists (potential bias)\n",
        "* p >= 0.05: No significant difference (likely no bias)"
      ],
      "metadata": {
        "id": "HQ_3xGSUHmg7"
      }
    },
    {
      "cell_type": "markdown",
      "source": [
        "#Run Complete Analysis"
      ],
      "metadata": {
        "id": "Kr8XGqNvH2K7"
      }
    },
    {
      "cell_type": "code",
      "source": [
        "    def run_complete_analysis(self):\n",
        "        \"\"\"Run the complete analysis pipeline\"\"\"\n",
        "        # Load and explore data\n",
        "        self.load_and_explore_data()\n",
        "\n",
        "        # Visualize data\n",
        "        self.visualize_data_distribution()\n",
        "\n",
        "        # Prepare data\n",
        "        self.prepare_data()\n",
        "\n",
        "        # Train models\n",
        "        self.train_models()\n",
        "        self.train_smote_models()\n",
        "          # Evaluate models\n",
        "        results_df, best_model_name = self.evaluate_models()\n",
        "\n",
        "        # Plot model comparison\n",
        "        self.plot_model_comparison(results_df)\n",
        "\n",
        "        # Analyze feature importance\n",
        "        self.analyze_feature_importance(best_model_name)\n",
        "\n",
        "        # Fairness analysis\n",
        "        self.fairness_analysis(best_model_name)\n",
        "\n",
        "        print(f\"\\n{'='*60}\")\n",
        "        print(\"ANALYSIS COMPLETE\")\n",
        "        print(\"=\"*60)\n",
        "        print(f\"Best performing model: {best_model_name}\")\n",
        "        print(\"Please review the fairness analysis results above.\")\n",
        "\n"
      ],
      "metadata": {
        "id": "0t0dJWthH2Bb"
      },
      "execution_count": null,
      "outputs": []
    },
    {
      "cell_type": "markdown",
      "source": [
        "#Usage"
      ],
      "metadata": {
        "id": "ADDcK6IrID5U"
      }
    },
    {
      "cell_type": "code",
      "source": [
        "if __name__ == \"__main__\":\n",
        "    # Initialize analyzer\n",
        "    analyzer = LoanApprovalFairnessAnalyzer('/content/loan_approval_dataset.csv')\n",
        "\n",
        "    # Run complete analysis\n",
        "    analyzer.run_complete_analysis()"
      ],
      "metadata": {
        "colab": {
          "base_uri": "https://localhost:8080/",
          "height": 176
        },
        "id": "2bY4qzM3IE_a",
        "outputId": "4fffc73c-8369-4792-ce08-c21d6dd403c6"
      },
      "execution_count": null,
      "outputs": [
        {
          "output_type": "error",
          "ename": "AttributeError",
          "evalue": "'LoanApprovalFairnessAnalyzer' object has no attribute 'run_complete_analysis'",
          "traceback": [
            "\u001b[0;31m---------------------------------------------------------------------------\u001b[0m",
            "\u001b[0;31mAttributeError\u001b[0m                            Traceback (most recent call last)",
            "\u001b[0;32m/tmp/ipython-input-155-3934477663.py\u001b[0m in \u001b[0;36m<cell line: 0>\u001b[0;34m()\u001b[0m\n\u001b[1;32m      4\u001b[0m \u001b[0;34m\u001b[0m\u001b[0m\n\u001b[1;32m      5\u001b[0m     \u001b[0;31m# Run complete analysis\u001b[0m\u001b[0;34m\u001b[0m\u001b[0;34m\u001b[0m\u001b[0m\n\u001b[0;32m----> 6\u001b[0;31m     \u001b[0manalyzer\u001b[0m\u001b[0;34m.\u001b[0m\u001b[0mrun_complete_analysis\u001b[0m\u001b[0;34m(\u001b[0m\u001b[0;34m)\u001b[0m\u001b[0;34m\u001b[0m\u001b[0;34m\u001b[0m\u001b[0m\n\u001b[0m",
            "\u001b[0;31mAttributeError\u001b[0m: 'LoanApprovalFairnessAnalyzer' object has no attribute 'run_complete_analysis'"
          ]
        }
      ]
    },
    {
      "cell_type": "code",
      "source": [
        "import pandas as pd\n",
        "import numpy as np\n",
        "import matplotlib.pyplot as plt\n",
        "import seaborn as sns\n",
        "from scipy import stats\n",
        "\n",
        "from sklearn.model_selection import train_test_split, GridSearchCV, cross_val_score\n",
        "from sklearn.preprocessing import StandardScaler, OneHotEncoder, LabelEncoder\n",
        "from sklearn.impute import SimpleImputer\n",
        "from sklearn.compose import ColumnTransformer\n",
        "from sklearn.pipeline import Pipeline\n",
        "from sklearn.ensemble import RandomForestClassifier, GradientBoostingClassifier, AdaBoostClassifier\n",
        "from sklearn.linear_model import LogisticRegression\n",
        "from sklearn.svm import SVC\n",
        "from sklearn.metrics import classification_report, confusion_matrix, accuracy_score, roc_auc_score, f1_score, roc_curve, precision_recall_curve\n",
        "from sklearn.inspection import permutation_importance\n",
        "\n",
        "from imblearn.over_sampling import SMOTE\n",
        "from imblearn.pipeline import Pipeline as ImbPipeline\n",
        "\n",
        "import warnings\n",
        "warnings.filterwarnings('ignore')\n",
        "\n",
        "# Set style for better plots\n",
        "plt.style.use('seaborn-v0_8')\n",
        "sns.set_palette(\"husl\")\n",
        "\n",
        "class LoanApprovalFairnessAnalyzer:\n",
        "    def __init__(self, data_path):\n",
        "        self.data_path = data_path\n",
        "        self.data = None\n",
        "        self.X = None\n",
        "        self.y = None\n",
        "        self.X_train = None\n",
        "        self.X_test = None\n",
        "        self.y_train = None\n",
        "        self.y_test = None\n",
        "        self.models = {}\n",
        "        self.predictions = {}\n",
        "        self.fairness_metrics = {}\n",
        "\n",
        "    def load_and_explore_data(self):\n",
        "        \"\"\"Load and perform initial exploration of the dataset\"\"\"\n",
        "        print(\"=\"*60)\n",
        "        print(\"LOAN APPROVAL PREDICTION WITH FAIRNESS ANALYSIS\")\n",
        "        print(\"=\"*60)\n",
        "\n",
        "        # Load data\n",
        "        self.data = pd.read_csv(self.data_path)\n",
        "\n",
        "        # Clean column names (remove leading/trailing spaces)\n",
        "        self.data.columns = self.data.columns.str.strip()\n",
        "\n",
        "        print(f\"\\nDataset Shape: {self.data.shape}\")\n",
        "        print(f\"Columns: {list(self.data.columns)}\")\n",
        "\n",
        "        # Display basic info\n",
        "        print(\"\\n\" + \"=\"*40)\n",
        "        print(\"DATA OVERVIEW\")\n",
        "        print(\"=\"*40)\n",
        "        print(self.data.head())\n",
        "        print(f\"\\nMissing Values:\\n{self.data.isnull().sum()}\")\n",
        "        print(f\"\\nData Types:\\n{self.data.dtypes}\")\n",
        "\n",
        "        # Target distribution\n",
        "        if 'loan_status' in self.data.columns:\n",
        "            print(f\"\\nLoan Status Distribution:\\n{self.data['loan_status'].value_counts()}\")\n",
        "            print(f\"Approval Rate: {(self.data['loan_status'] == 'Approved').mean():.2%}\")\n",
        "\n",
        "        return self.data\n",
        "\n",
        "    def visualize_data_distribution(self):\n",
        "        \"\"\"Create visualizations for data distribution and relationships\"\"\"\n",
        "        print(\"\\n\" + \"=\"*40)\n",
        "        print(\"DATA VISUALIZATION\")\n",
        "        print(\"=\"*40)\n",
        "\n",
        "        # Create subplots\n",
        "        fig, axes = plt.subplots(2, 3, figsize=(18, 12))\n",
        "\n",
        "        # Loan status distribution\n",
        "        self.data['loan_status'].value_counts().plot(kind='bar', ax=axes[0,0], color=['#ff7f0e', '#2ca02c'])\n",
        "        axes[0,0].set_title('Loan Status Distribution')\n",
        "        axes[0,0].set_xlabel('Status')\n",
        "        axes[0,0].set_ylabel('Count')\n",
        "        axes[0,0].tick_params(axis='x', rotation=45)\n",
        "\n",
        "\n",
        "        # Income distribution by loan status\n",
        "        approved = self.data[self.data['loan_status'] == 'Approved']['income_annum']\n",
        "        rejected = self.data[self.data['loan_status'] == 'Rejected']['income_annum']\n",
        "\n",
        "        # Use better bin calculation and convert to millions for readability\n",
        "        income_bins = np.linspace(min(self.data['income_annum']), max(self.data['income_annum']), 25)\n",
        "        axes[0,1].hist([approved/1e6, rejected/1e6], bins=income_bins/1e6, alpha=0.7,\n",
        "                      label=['Approved', 'Rejected'], color=['#2ca02c', '#ff7f0e'])\n",
        "        axes[0,1].set_title('Income Distribution by Loan Status')\n",
        "        axes[0,1].set_xlabel('Annual Income (Millions)')\n",
        "        axes[0,1].set_ylabel('Count (Number of Applicants)')\n",
        "        axes[0,1].legend()\n",
        "        axes[0,1].grid(True, alpha=0.3)\n",
        "\n",
        "        # CIBIL Score distribution\n",
        "        approved_cibil = self.data[self.data['loan_status'] == 'Approved']['cibil_score']\n",
        "        rejected_cibil = self.data[self.data['loan_status'] == 'Rejected']['cibil_score']\n",
        "\n",
        "        cibil_bins = np.linspace(min(self.data['cibil_score']), max(self.data['cibil_score']), 25)\n",
        "        axes[0,2].hist([approved_cibil, rejected_cibil], bins=cibil_bins, alpha=0.7,\n",
        "                      label=['Approved', 'Rejected'], color=['#2ca02c', '#ff7f0e'])\n",
        "        axes[0,2].set_title('CIBIL Score Distribution by Loan Status')\n",
        "        axes[0,2].set_xlabel('CIBIL Score')\n",
        "        axes[0,2].set_ylabel('Count (Number of Applicants)')\n",
        "        axes[0,2].legend()\n",
        "        axes[0,2].grid(True, alpha=0.3)\n",
        "\n",
        "        # Loan amount vs Income scatter plot\n",
        "        approved_data = self.data[self.data['loan_status'] == 'Approved']\n",
        "        rejected_data = self.data[self.data['loan_status'] == 'Rejected']\n",
        "\n",
        "        # Convert to millions for better readability\n",
        "        axes[1,0].scatter(approved_data['income_annum']/1e6, approved_data['loan_amount']/1e6,\n",
        "                         alpha=0.6, label='Approved', color='#2ca02c', s=20)\n",
        "        axes[1,0].scatter(rejected_data['income_annum']/1e6, rejected_data['loan_amount']/1e6,\n",
        "                         alpha=0.6, label='Rejected', color='#ff7f0e', s=20)\n",
        "        axes[1,0].set_title('Loan Amount vs Annual Income')\n",
        "        axes[1,0].set_xlabel('Annual Income (Millions)')\n",
        "        axes[1,0].set_ylabel('Loan Amount (Millions)')\n",
        "        axes[1,0].legend()\n",
        "        axes[1,0].grid(True, alpha=0.3)\n",
        "\n",
        "        # Add trend line\n",
        "        x_approved = approved_data['income_annum']/1e6\n",
        "        y_approved = approved_data['loan_amount']/1e6\n",
        "        if len(x_approved) > 1:\n",
        "            z_approved = np.polyfit(x_approved, y_approved, 1)\n",
        "            p_approved = np.poly1d(z_approved)\n",
        "            axes[1,0].plot(sorted(x_approved), p_approved(sorted(x_approved)),\n",
        "                          color='#2ca02c', linestyle='--', alpha=0.8, linewidth=2)\n",
        "\n",
        "        # Education level distribution\n",
        "        education_status = pd.crosstab(self.data['education'], self.data['loan_status'])\n",
        "        education_status.plot(kind='bar', ax=axes[1,1], color=['#ff7f0e', '#2ca02c'])\n",
        "        axes[1,1].set_title('Loan Status by Education Level')\n",
        "        axes[1,1].set_xlabel('Education')\n",
        "        axes[1,1].set_ylabel('Count')\n",
        "        axes[1,1].tick_params(axis='x', rotation=45)\n",
        "        axes[1,1].legend()\n",
        "\n",
        "        # Self-employment status\n",
        "        employment_status = pd.crosstab(self.data['self_employed'], self.data['loan_status'])\n",
        "        employment_status.plot(kind='bar', ax=axes[1,2], color=['#ff7f0e', '#2ca02c'])\n",
        "        axes[1,2].set_title('Loan Status by Employment Type')\n",
        "        axes[1,2].set_xlabel('Self Employed')\n",
        "        axes[1,2].set_ylabel('Count')\n",
        "        axes[1,2].tick_params(axis='x', rotation=45)\n",
        "        axes[1,2].legend()\n",
        "\n",
        "        plt.tight_layout()\n",
        "        plt.show()\n",
        "\n",
        "        # Correlation heatmap\n",
        "        plt.figure(figsize=(12, 10))\n",
        "        numeric_cols = self.data.select_dtypes(include=[np.number]).columns\n",
        "        correlation_matrix = self.data[numeric_cols].corr()\n",
        "        sns.heatmap(correlation_matrix, annot=True, cmap='coolwarm', center=0,\n",
        "                   square=True, linewidths=0.5)\n",
        "        plt.title('Correlation Matrix of Numeric Features')\n",
        "        plt.tight_layout()\n",
        "        plt.show()\n",
        "\n",
        "    def prepare_data(self):\n",
        "        \"\"\"Prepare data for modeling\"\"\"\n",
        "        print(\"\\n\" + \"=\"*40)\n",
        "        print(\"DATA PREPARATION\")\n",
        "        print(\"=\"*40)\n",
        "\n",
        "        # Encode target variable\n",
        "        label_encoder = LabelEncoder()\n",
        "        self.data['loan_status_encoded'] = label_encoder.fit_transform(self.data['loan_status'])\n",
        "\n",
        "        # Separate features and target\n",
        "        self.X = self.data.drop(['loan_status', 'loan_status_encoded', 'loan_id'], axis=1)\n",
        "        self.y = self.data['loan_status_encoded']\n",
        "\n",
        "        # Identify categorical and numerical columns\n",
        "        self.categorical_cols = self.X.select_dtypes(include=['object']).columns.tolist()\n",
        "        self.numerical_cols = self.X.select_dtypes(include=[np.number]).columns.tolist()\n",
        "\n",
        "        print(f\"Categorical columns: {self.categorical_cols}\")\n",
        "        print(f\"Numerical columns: {self.numerical_cols}\")\n",
        "\n",
        "        # Create preprocessing pipelines\n",
        "        self.numerical_transformer = Pipeline(steps=[\n",
        "            ('imputer', SimpleImputer(strategy='median')),\n",
        "            ('scaler', StandardScaler())\n",
        "        ])\n",
        "\n",
        "        self.categorical_transformer = Pipeline(steps=[\n",
        "            ('imputer', SimpleImputer(strategy='most_frequent')),\n",
        "            ('onehot', OneHotEncoder(handle_unknown='ignore', drop='first'))\n",
        "        ])\n",
        "\n",
        "        self.preprocessor = ColumnTransformer(\n",
        "            transformers=[\n",
        "                ('num', self.numerical_transformer, self.numerical_cols),\n",
        "                ('cat', self.categorical_transformer, self.categorical_cols)\n",
        "            ])\n",
        "\n",
        "        # Train-test split\n",
        "        self.X_train, self.X_test, self.y_train, self.y_test = train_test_split(\n",
        "            self.X, self.y, test_size=0.2, random_state=42, stratify=self.y\n",
        "        )\n",
        "\n",
        "        print(f\"Training set size: {self.X_train.shape[0]}\")\n",
        "        print(f\"Test set size: {self.X_test.shape[0]}\")\n",
        "        print(f\"Training set approval rate: {self.y_train.mean():.2%}\")\n",
        "        print(f\"Test set approval rate: {self.y_test.mean():.2%}\")\n",
        "\n",
        "    def train_models(self):\n",
        "        \"\"\"Train multiple advanced models\"\"\"\n",
        "        print(\"\\n\" + \"=\"*40)\n",
        "        print(\"MODEL TRAINING\")\n",
        "        print(\"=\"*40)\n",
        "\n",
        "        # Define models\n",
        "        models_config = {\n",
        "            'Logistic Regression': LogisticRegression(random_state=42, max_iter=1000),\n",
        "            'Random Forest': RandomForestClassifier(random_state=42, n_estimators=100),\n",
        "            'Gradient Boosting': GradientBoostingClassifier(random_state=42, n_estimators=100),\n",
        "            'AdaBoost': AdaBoostClassifier(random_state=42, n_estimators=100),\n",
        "            'SVM': SVC(random_state=42, probability=True)\n",
        "        }\n",
        "\n",
        "        # Train models\n",
        "        for name, model in models_config.items():\n",
        "            print(f\"Training {name}...\")\n",
        "\n",
        "            # Create pipeline\n",
        "            pipeline = Pipeline(steps=[\n",
        "                ('preprocessor', self.preprocessor),\n",
        "                ('classifier', model)\n",
        "            ])\n",
        "\n",
        "            # Fit model\n",
        "            pipeline.fit(self.X_train, self.y_train)\n",
        "\n",
        "            # Store model and predictions\n",
        "            self.models[name] = pipeline\n",
        "            self.predictions[name] = pipeline.predict(self.X_test)\n",
        "\n",
        "            # Cross-validation score\n",
        "            cv_scores = cross_val_score(pipeline, self.X_train, self.y_train, cv=5, scoring='f1')\n",
        "            print(f\"{name} CV F1 Score: {cv_scores.mean():.4f} (+/- {cv_scores.std() * 2:.4f})\")\n",
        "\n",
        "    def train_smote_models(self):\n",
        "        \"\"\"Train models with SMOTE for handling class imbalance\"\"\"\n",
        "        print(\"\\n\" + \"=\"*40)\n",
        "        print(\"SMOTE-ENHANCED MODEL TRAINING\")\n",
        "        print(\"=\"*40)\n",
        "\n",
        "        # Define key models for SMOTE\n",
        "        smote_models = {\n",
        "            'RF + SMOTE': RandomForestClassifier(random_state=42, n_estimators=100),\n",
        "            'GB + SMOTE': GradientBoostingClassifier(random_state=42, n_estimators=100)\n",
        "        }\n",
        "\n",
        "        for name, model in smote_models.items():\n",
        "            print(f\"Training {name}...\")\n",
        "\n",
        "            # Create SMOTE pipeline\n",
        "            smote_pipeline = ImbPipeline(steps=[\n",
        "                ('preprocessor', self.preprocessor),\n",
        "                ('smote', SMOTE(random_state=42)),\n",
        "                ('classifier', model)\n",
        "            ])\n",
        "\n",
        "            # Fit model\n",
        "            smote_pipeline.fit(self.X_train, self.y_train)\n",
        "\n",
        "            # Store model and predictions\n",
        "            self.models[name] = smote_pipeline\n",
        "            self.predictions[name] = smote_pipeline.predict(self.X_test)\n",
        "\n",
        "    def evaluate_models(self):\n",
        "        \"\"\"Comprehensive model evaluation\"\"\"\n",
        "        print(\"\\n\" + \"=\"*40)\n",
        "        print(\"MODEL EVALUATION\")\n",
        "        print(\"=\"*40)\n",
        "\n",
        "        results = []\n",
        "\n",
        "        for name, predictions in self.predictions.items():\n",
        "            # Calculate metrics\n",
        "            accuracy = accuracy_score(self.y_test, predictions)\n",
        "            f1 = f1_score(self.y_test, predictions)\n",
        "            roc_auc = roc_auc_score(self.y_test, predictions)\n",
        "\n",
        "            results.append({\n",
        "                'Model': name,\n",
        "                'Accuracy': accuracy,\n",
        "                'F1 Score': f1,\n",
        "                'ROC AUC': roc_auc\n",
        "            })\n",
        "\n",
        "            print(f\"\\n{name} Results:\")\n",
        "            print(f\"Accuracy: {accuracy:.4f}\")\n",
        "            print(f\"F1 Score: {f1:.4f}\")\n",
        "            print(f\"ROC AUC: {roc_auc:.4f}\")\n",
        "            print(\"\\nClassification Report:\")\n",
        "            print(classification_report(self.y_test, predictions))\n",
        "\n",
        "        # Create results DataFrame\n",
        "        results_df = pd.DataFrame(results)\n",
        "        print(f\"\\n{'='*60}\")\n",
        "        print(\"MODEL COMPARISON SUMMARY\")\n",
        "        print(\"=\"*60)\n",
        "        print(results_df.to_string(index=False))\n",
        "\n",
        "        # Find best model\n",
        "        best_model_name = results_df.loc[results_df['F1 Score'].idxmax(), 'Model']\n",
        "        print(f\"\\nBest Model (by F1 Score): {best_model_name}\")\n",
        "\n",
        "        return results_df, best_model_name\n",
        "\n",
        "    def plot_model_comparison(self, results_df):\n",
        "        \"\"\"Plot model comparison\"\"\"\n",
        "        fig, axes = plt.subplots(1, 3, figsize=(18, 6))\n",
        "\n",
        "        # Accuracy comparison\n",
        "        bars1 = axes[0].bar(results_df['Model'], results_df['Accuracy'], color='skyblue')\n",
        "        axes[0].set_title('Model Accuracy Comparison')\n",
        "        axes[0].set_ylabel('Accuracy')\n",
        "        axes[0].set_xticklabels(results_df['Model'], rotation=45, ha='right')\n",
        "        axes[0].set_ylim(0, 1)\n",
        "\n",
        "        # Add value labels on bars\n",
        "        for bar in bars1:\n",
        "            height = bar.get_height()\n",
        "            axes[0].text(bar.get_x() + bar.get_width()/2., height + 0.01,\n",
        "                        f'{height:.3f}', ha='center', va='bottom')\n",
        "\n",
        "        # F1 Score comparison\n",
        "        bars2 = axes[1].bar(results_df['Model'], results_df['F1 Score'], color='lightgreen')\n",
        "        axes[1].set_title('Model F1 Score Comparison')\n",
        "        axes[1].set_ylabel('F1 Score')\n",
        "        axes[1].set_xticklabels(results_df['Model'], rotation=45, ha='right')\n",
        "        axes[1].set_ylim(0, 1)\n",
        "\n",
        "        for bar in bars2:\n",
        "            height = bar.get_height()\n",
        "            axes[1].text(bar.get_x() + bar.get_width()/2., height + 0.01,\n",
        "                        f'{height:.3f}', ha='center', va='bottom')\n",
        "\n",
        "        # ROC AUC comparison\n",
        "        bars3 = axes[2].bar(results_df['Model'], results_df['ROC AUC'], color='salmon')\n",
        "        axes[2].set_title('Model ROC AUC Comparison')\n",
        "        axes[2].set_ylabel('ROC AUC')\n",
        "        axes[2].set_xticklabels(results_df['Model'], rotation=45, ha='right')\n",
        "        axes[2].set_ylim(0, 1)\n",
        "\n",
        "        for bar in bars3:\n",
        "            height = bar.get_height()\n",
        "            axes[2].text(bar.get_x() + bar.get_width()/2., height + 0.01,\n",
        "                        f'{height:.3f}', ha='center', va='bottom')\n",
        "\n",
        "        plt.tight_layout()\n",
        "        plt.show()\n",
        "\n",
        "    def analyze_feature_importance(self, best_model_name):\n",
        "        \"\"\"Analyze feature importance for the best model\"\"\"\n",
        "        print(f\"\\n{'='*40}\")\n",
        "        print(f\"FEATURE IMPORTANCE ANALYSIS - {best_model_name}\")\n",
        "        print(\"=\"*40)\n",
        "\n",
        "        best_model = self.models[best_model_name]\n",
        "\n",
        "        # Get feature names after preprocessing\n",
        "        if hasattr(best_model, 'named_steps'):\n",
        "            preprocessor = best_model.named_steps['preprocessor']\n",
        "        else:\n",
        "            preprocessor = best_model.steps[0][1]\n",
        "\n",
        "        # Fit preprocessor to get feature names\n",
        "        preprocessor.fit(self.X_train)\n",
        "\n",
        "        # Get feature names\n",
        "        feature_names = self.numerical_cols.copy()\n",
        "        if 'cat' in preprocessor.named_transformers_:\n",
        "            cat_feature_names = preprocessor.named_transformers_['cat'].named_steps['onehot'].get_feature_names_out(self.categorical_cols)\n",
        "            feature_names.extend(cat_feature_names)\n",
        "\n",
        "        # Get feature importance\n",
        "        if hasattr(best_model, 'named_steps'):\n",
        "            classifier = best_model.named_steps['classifier']\n",
        "        else:\n",
        "            classifier = best_model.steps[-1][1]\n",
        "\n",
        "        if hasattr(classifier, 'feature_importances_'):\n",
        "            importance_scores = classifier.feature_importances_\n",
        "\n",
        "            # Create feature importance DataFrame\n",
        "            feature_importance_df = pd.DataFrame({\n",
        "                'Feature': feature_names,\n",
        "                'Importance': importance_scores\n",
        "            }).sort_values('Importance', ascending=False)\n",
        "\n",
        "            print(\"Top 15 Most Important Features:\")\n",
        "            print(feature_importance_df.head(15).to_string(index=False))\n",
        "\n",
        "            # Plot feature importance\n",
        "            plt.figure(figsize=(12, 8))\n",
        "            top_features = feature_importance_df.head(15)\n",
        "            sns.barplot(data=top_features, x='Importance', y='Feature', palette='viridis')\n",
        "            plt.title(f'Top 15 Feature Importance - {best_model_name}')\n",
        "            plt.xlabel('Importance Score')\n",
        "            plt.tight_layout()\n",
        "            plt.show()\n",
        "\n",
        "            return feature_importance_df\n",
        "        else:\n",
        "            print(f\"Feature importance not available for {best_model_name}\")\n",
        "            return None\n",
        "\n",
        "    def fairness_analysis(self, best_model_name):\n",
        "        \"\"\"Analyze fairness across different demographic groups\"\"\"\n",
        "        print(f\"\\n{'='*60}\")\n",
        "        print(\"FAIRNESS ANALYSIS\")\n",
        "        print(\"=\"*60)\n",
        "\n",
        "        # Get predictions from best model\n",
        "        best_predictions = self.predictions[best_model_name]\n",
        "\n",
        "        # Create test dataframe with predictions\n",
        "        test_df = self.X_test.copy()\n",
        "        test_df['actual'] = self.y_test\n",
        "        test_df['predicted'] = best_predictions\n",
        "\n",
        "        # Analyze fairness by education level\n",
        "        if 'education' in test_df.columns:\n",
        "            print(\"\\nFAIRNESS BY EDUCATION LEVEL:\")\n",
        "            print(\"=\"*40)\n",
        "\n",
        "            education_fairness = self.calculate_fairness_metrics(test_df, 'education')\n",
        "            print(education_fairness)\n",
        "\n",
        "            # Visualize education fairness\n",
        "            self.plot_fairness_metrics(education_fairness, 'Education Level')\n",
        "\n",
        "        # Analyze fairness by employment status\n",
        "        if 'self_employed' in test_df.columns:\n",
        "            print(\"\\nFAIRNESS BY EMPLOYMENT STATUS:\")\n",
        "            print(\"=\"*40)\n",
        "\n",
        "            employment_fairness = self.calculate_fairness_metrics(test_df, 'self_employed')\n",
        "            print(employment_fairness)\n",
        "\n",
        "            # Visualize employment fairness\n",
        "            self.plot_fairness_metrics(employment_fairness, 'Employment Status')\n",
        "\n",
        "        # Statistical significance tests\n",
        "        self.statistical_fairness_tests(test_df)\n",
        "\n",
        "    def calculate_fairness_metrics(self, df, group_col):\n",
        "        \"\"\"Calculate fairness metrics for a specific group\"\"\"\n",
        "        fairness_metrics = []\n",
        "\n",
        "        for group in df[group_col].unique():\n",
        "            group_data = df[df[group_col] == group]\n",
        "\n",
        "            # Calculate metrics\n",
        "            total_count = len(group_data)\n",
        "            actual_approval_rate = group_data['actual'].mean()\n",
        "            predicted_approval_rate = group_data['predicted'].mean()\n",
        "\n",
        "            # True Positive Rate (Sensitivity)\n",
        "            tp = ((group_data['actual'] == 1) & (group_data['predicted'] == 1)).sum()\n",
        "            fn = ((group_data['actual'] == 1) & (group_data['predicted'] == 0)).sum()\n",
        "            tpr = tp / (tp + fn) if (tp + fn) > 0 else 0\n",
        "\n",
        "            # False Positive Rate\n",
        "            fp = ((group_data['actual'] == 0) & (group_data['predicted'] == 1)).sum()\n",
        "            tn = ((group_data['actual'] == 0) & (group_data['predicted'] == 0)).sum()\n",
        "            fpr = fp / (fp + tn) if (fp + tn) > 0 else 0\n",
        "\n",
        "            # Precision\n",
        "            precision = tp / (tp + fp) if (tp + fp) > 0 else 0\n",
        "\n",
        "            # Accuracy\n",
        "            accuracy = ((group_data['actual'] == group_data['predicted']).sum()) / total_count\n",
        "\n",
        "            fairness_metrics.append({\n",
        "                'Group': group,\n",
        "                'Count': total_count,\n",
        "                'Actual_Approval_Rate': actual_approval_rate,\n",
        "                'Predicted_Approval_Rate': predicted_approval_rate,\n",
        "                'TPR': tpr,\n",
        "                'FPR': fpr,\n",
        "                'Precision': precision,\n",
        "                'Accuracy': accuracy\n",
        "            })\n",
        "\n",
        "        return pd.DataFrame(fairness_metrics)\n",
        "\n",
        "    def plot_fairness_metrics(self, fairness_df, title):\n",
        "        \"\"\"Plot fairness metrics\"\"\"\n",
        "        fig, axes = plt.subplots(2, 2, figsize=(15, 10))\n",
        "\n",
        "        # Approval rates\n",
        "        x = range(len(fairness_df))\n",
        "        width = 0.35\n",
        "\n",
        "        axes[0,0].bar([i - width/2 for i in x], fairness_df['Actual_Approval_Rate'],\n",
        "                     width, label='Actual', alpha=0.8)\n",
        "        axes[0,0].bar([i + width/2 for i in x], fairness_df['Predicted_Approval_Rate'],\n",
        "                     width, label='Predicted', alpha=0.8)\n",
        "        axes[0,0].set_title(f'Approval Rates by {title}')\n",
        "        axes[0,0].set_xlabel(title)\n",
        "        axes[0,0].set_ylabel('Approval Rate')\n",
        "        axes[0,0].set_xticks(x)\n",
        "        axes[0,0].set_xticklabels(fairness_df['Group'])\n",
        "        axes[0,0].legend()\n",
        "\n",
        "        # True Positive Rate\n",
        "        axes[0,1].bar(fairness_df['Group'], fairness_df['TPR'], color='green', alpha=0.7)\n",
        "        axes[0,1].set_title(f'True Positive Rate by {title}')\n",
        "        axes[0,1].set_xlabel(title)\n",
        "        axes[0,1].set_ylabel('TPR')\n",
        "        axes[0,1].tick_params(axis='x', rotation=45)\n",
        "\n",
        "        # False Positive Rate\n",
        "        axes[1,0].bar(fairness_df['Group'], fairness_df['FPR'], color='red', alpha=0.7)\n",
        "        axes[1,0].set_title(f'False Positive Rate by {title}')\n",
        "        axes[1,0].set_xlabel(title)\n",
        "        axes[1,0].set_ylabel('FPR')\n",
        "        axes[1,0].tick_params(axis='x', rotation=45)\n",
        "\n",
        "        # Accuracy\n",
        "        axes[1,1].bar(fairness_df['Group'], fairness_df['Accuracy'], color='blue', alpha=0.7)\n",
        "        axes[1,1].set_title(f'Accuracy by {title}')\n",
        "        axes[1,1].set_xlabel(title)\n",
        "        axes[1,1].set_ylabel('Accuracy')\n",
        "        axes[1,1].tick_params(axis='x', rotation=45)\n",
        "\n",
        "        plt.tight_layout()\n",
        "        plt.show()\n",
        "\n",
        "    def statistical_fairness_tests(self, df):\n",
        "        \"\"\"Perform statistical tests for fairness\"\"\"\n",
        "        print(f\"\\n{'='*40}\")\n",
        "        print(\"STATISTICAL FAIRNESS TESTS\")\n",
        "        print(\"=\"*40)\n",
        "\n",
        "        # Test for education level\n",
        "        if 'education' in df.columns:\n",
        "            grad_predictions = df[df['education'] == 'Graduate']['predicted']\n",
        "            not_grad_predictions = df[df['education'] == 'Not Graduate']['predicted']\n",
        "\n",
        "            # Chi-square test\n",
        "            from scipy.stats import chi2_contingency\n",
        "            contingency_table = pd.crosstab(df['education'], df['predicted'])\n",
        "            chi2, p_value, dof, expected = chi2_contingency(contingency_table)\n",
        "\n",
        "            print(f\"Education Level Fairness Test:\")\n",
        "            print(f\"Chi-square statistic: {chi2:.4f}\")\n",
        "            print(f\"P-value: {p_value:.4f}\")\n",
        "            print(f\"Significant difference: {'Yes' if p_value < 0.05 else 'No'}\")\n",
        "\n",
        "            # Two-proportion z-test\n",
        "            grad_approval_rate = grad_predictions.mean()\n",
        "            not_grad_approval_rate = not_grad_predictions.mean()\n",
        "\n",
        "            print(f\"\\nApproval Rates:\")\n",
        "            print(f\"Graduate: {grad_approval_rate:.2%}\")\n",
        "            print(f\"Not Graduate: {not_grad_approval_rate:.2%}\")\n",
        "            print(f\"Difference: {abs(grad_approval_rate - not_grad_approval_rate):.2%}\")\n",
        "\n",
        "        # Test for employment status\n",
        "        if 'self_employed' in df.columns:\n",
        "            self_emp_predictions = df[df['self_employed'] == 'Yes']['predicted']\n",
        "            not_self_emp_predictions = df[df['self_employed'] == 'No']['predicted']\n",
        "\n",
        "            contingency_table = pd.crosstab(df['self_employed'], df['predicted'])\n",
        "            chi2, p_value, dof, expected = chi2_contingency(contingency_table)\n",
        "\n",
        "            print(f\"\\nEmployment Status Fairness Test:\")\n",
        "            print(f\"Chi-square statistic: {chi2:.4f}\")\n",
        "            print(f\"P-value: {p_value:.4f}\")\n",
        "            print(f\"Significant difference: {'Yes' if p_value < 0.05 else 'No'}\")\n",
        "\n",
        "            self_emp_approval_rate = self_emp_predictions.mean()\n",
        "            not_self_emp_approval_rate = not_self_emp_predictions.mean()\n",
        "\n",
        "            print(f\"\\nApproval Rates:\")\n",
        "            print(f\"Self-employed: {self_emp_approval_rate:.2%}\")\n",
        "            print(f\"Not Self-employed: {not_self_emp_approval_rate:.2%}\")\n",
        "            print(f\"Difference: {abs(self_emp_approval_rate - not_self_emp_approval_rate):.2%}\")\n",
        "\n",
        "    def run_complete_analysis(self):\n",
        "        \"\"\"Run the complete analysis pipeline\"\"\"\n",
        "        # Load and explore data\n",
        "        self.load_and_explore_data()\n",
        "\n",
        "        # Visualize data\n",
        "        self.visualize_data_distribution()\n",
        "\n",
        "        # Prepare data\n",
        "        self.prepare_data()\n",
        "\n",
        "        # Train models\n",
        "        self.train_models()\n",
        "        self.train_smote_models()\n",
        "\n",
        "        # Evaluate models\n",
        "        results_df, best_model_name = self.evaluate_models()\n",
        "\n",
        "        # Plot model comparison\n",
        "        self.plot_model_comparison(results_df)\n",
        "\n",
        "        # Analyze feature importance\n",
        "        self.analyze_feature_importance(best_model_name)\n",
        "\n",
        "        # Fairness analysis\n",
        "        self.fairness_analysis(best_model_name)\n",
        "\n",
        "        print(f\"\\n{'='*60}\")\n",
        "        print(\"ANALYSIS COMPLETE\")\n",
        "        print(\"=\"*60)\n",
        "        print(f\"Best performing model: {best_model_name}\")\n",
        "        print(\"Please review the fairness analysis results above.\")\n",
        "        print(\"Consider implementing bias mitigation techniques if unfair patterns are detected.\")\n",
        "\n",
        "# Usage\n",
        "if __name__ == \"__main__\":\n",
        "    # Initialize analyzer\n",
        "    analyzer = LoanApprovalFairnessAnalyzer('/content/loan_approval_dataset.csv')\n",
        "\n",
        "    # Run complete analysis\n",
        "    analyzer.run_complete_analysis()"
      ],
      "metadata": {
        "id": "74ajc7yeI-Gl",
        "colab": {
          "base_uri": "https://localhost:8080/",
          "height": 1000
        },
        "outputId": "313f2f63-17ba-40d1-a4b2-bb165d95499c"
      },
      "execution_count": null,
      "outputs": [
        {
          "output_type": "stream",
          "name": "stdout",
          "text": [
            "============================================================\n",
            "LOAN APPROVAL PREDICTION WITH FAIRNESS ANALYSIS\n",
            "============================================================\n",
            "\n",
            "Dataset Shape: (4269, 13)\n",
            "Columns: ['loan_id', 'no_of_dependents', 'education', 'self_employed', 'income_annum', 'loan_amount', 'loan_term', 'cibil_score', 'residential_assets_value', 'commercial_assets_value', 'luxury_assets_value', 'bank_asset_value', 'loan_status']\n",
            "\n",
            "========================================\n",
            "DATA OVERVIEW\n",
            "========================================\n",
            "   loan_id  no_of_dependents      education self_employed  income_annum  \\\n",
            "0        1                 2       Graduate            No       9600000   \n",
            "1        2                 0   Not Graduate           Yes       4100000   \n",
            "2        3                 3       Graduate            No       9100000   \n",
            "3        4                 3       Graduate            No       8200000   \n",
            "4        5                 5   Not Graduate           Yes       9800000   \n",
            "\n",
            "   loan_amount  loan_term  cibil_score  residential_assets_value  \\\n",
            "0     29900000         12          778                   2400000   \n",
            "1     12200000          8          417                   2700000   \n",
            "2     29700000         20          506                   7100000   \n",
            "3     30700000          8          467                  18200000   \n",
            "4     24200000         20          382                  12400000   \n",
            "\n",
            "   commercial_assets_value  luxury_assets_value  bank_asset_value loan_status  \n",
            "0                 17600000             22700000           8000000    Approved  \n",
            "1                  2200000              8800000           3300000    Rejected  \n",
            "2                  4500000             33300000          12800000    Rejected  \n",
            "3                  3300000             23300000           7900000    Rejected  \n",
            "4                  8200000             29400000           5000000    Rejected  \n",
            "\n",
            "Missing Values:\n",
            "loan_id                     0\n",
            "no_of_dependents            0\n",
            "education                   0\n",
            "self_employed               0\n",
            "income_annum                0\n",
            "loan_amount                 0\n",
            "loan_term                   0\n",
            "cibil_score                 0\n",
            "residential_assets_value    0\n",
            "commercial_assets_value     0\n",
            "luxury_assets_value         0\n",
            "bank_asset_value            0\n",
            "loan_status                 0\n",
            "dtype: int64\n",
            "\n",
            "Data Types:\n",
            "loan_id                      int64\n",
            "no_of_dependents             int64\n",
            "education                   object\n",
            "self_employed               object\n",
            "income_annum                 int64\n",
            "loan_amount                  int64\n",
            "loan_term                    int64\n",
            "cibil_score                  int64\n",
            "residential_assets_value     int64\n",
            "commercial_assets_value      int64\n",
            "luxury_assets_value          int64\n",
            "bank_asset_value             int64\n",
            "loan_status                 object\n",
            "dtype: object\n",
            "\n",
            "Loan Status Distribution:\n",
            "loan_status\n",
            "Approved    2656\n",
            "Rejected    1613\n",
            "Name: count, dtype: int64\n",
            "Approval Rate: 0.00%\n",
            "\n",
            "========================================\n",
            "DATA VISUALIZATION\n",
            "========================================\n"
          ]
        },
        {
          "output_type": "display_data",
          "data": {
            "text/plain": [
              "<Figure size 1800x1200 with 6 Axes>"
            ],
            "image/png": "[encoded data removed]"
          },
          "metadata": {}
        },
        {
          "output_type": "display_data",
          "data": {
            "text/plain": [
              "<Figure size 1200x1000 with 2 Axes>"
            ],
            "image/png": "[encoded data removed]"
          },
          "metadata": {}
        },
        {
          "output_type": "stream",
          "name": "stdout",
          "text": [
            "\n",
            "========================================\n",
            "DATA PREPARATION\n",
            "========================================\n",
            "Categorical columns: ['education', 'self_employed']\n",
            "Numerical columns: ['no_of_dependents', 'income_annum', 'loan_amount', 'loan_term', 'cibil_score', 'residential_assets_value', 'commercial_assets_value', 'luxury_assets_value', 'bank_asset_value']\n",
            "Training set size: 3415\n",
            "Test set size: 854\n",
            "Training set approval rate: 37.77%\n",
            "Test set approval rate: 37.82%\n",
            "\n",
            "========================================\n",
            "MODEL TRAINING\n",
            "========================================\n",
            "Training Logistic Regression...\n",
            "Logistic Regression CV F1 Score: 0.8830 (+/- 0.0256)\n",
            "Training Random Forest...\n",
            "Random Forest CV F1 Score: 0.9758 (+/- 0.0105)\n",
            "Training Gradient Boosting...\n",
            "Gradient Boosting CV F1 Score: 0.9739 (+/- 0.0065)\n",
            "Training AdaBoost...\n",
            "AdaBoost CV F1 Score: 0.9587 (+/- 0.0172)\n",
            "Training SVM...\n"
          ]
        }
      ]
    },
    {
      "cell_type": "code",
      "source": [],
      "metadata": {
        "id": "CNLIgrLIKiJp"
      },
      "execution_count": null,
      "outputs": []
    }
  ]
}